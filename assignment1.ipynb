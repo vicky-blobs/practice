{
  "nbformat": 4,
  "nbformat_minor": 0,
  "metadata": {
    "kernelspec": {
      "display_name": "Python 3",
      "language": "python",
      "name": "python3"
    },
    "language_info": {
      "codemirror_mode": {
        "name": "ipython",
        "version": 3
      },
      "file_extension": ".py",
      "mimetype": "text/x-python",
      "name": "python",
      "nbconvert_exporter": "python",
      "pygments_lexer": "ipython3",
      "version": "3.6.10"
    },
    "colab": {
      "name": "assignment.ipynb",
      "provenance": []
    },
    "accelerator": "GPU"
  },
  "cells": [
    {
      "cell_type": "markdown",
      "metadata": {
        "id": "Svf-9YsQW6ih",
        "colab_type": "text"
      },
      "source": [
        "# Assignment\n",
        "\n",
        "In this assignment we will train a multiple (multivariable) linear regression model, extending the single variable linear regression model in the tutorial. \n",
        "\n",
        "This assignment is part of the class **Introduction to Deep Learning for Medical Imaging** at University of California Irvine (CS190); more information can be found: https://github.com/peterchang77/dl_tutor/tree/master/cs190."
      ]
    },
    {
      "cell_type": "markdown",
      "metadata": {
        "id": "XSirfpusW6ij",
        "colab_type": "text"
      },
      "source": [
        "### Submission\n",
        "\n",
        "Once complete, the following items must be submitted:\n",
        "\n",
        "* final `*.ipynb` notebook\n",
        "* final trained `*.hdf5` model file"
      ]
    },
    {
      "cell_type": "markdown",
      "metadata": {
        "colab_type": "text",
        "id": "56d3oMiMw8Wm"
      },
      "source": [
        "# Google Colab\n",
        "\n",
        "The following lines of code will configure your Google Colab environment for this assignment."
      ]
    },
    {
      "cell_type": "markdown",
      "metadata": {
        "id": "-CIepK3TW6in",
        "colab_type": "text"
      },
      "source": [
        "### Enable GPU runtime\n",
        "\n",
        "Use the following instructions to switch the default Colab instance into a GPU-enabled runtime:\n",
        "\n",
        "```\n",
        "Runtime > Change runtime type > Hardware accelerator > GPU\n",
        "```"
      ]
    },
    {
      "cell_type": "markdown",
      "metadata": {
        "id": "JYP4qzFiW6io",
        "colab_type": "text"
      },
      "source": [
        "### Mount Google Drive\n",
        "\n",
        "The Google Colab environment is transient and will reset after any prolonged break in activity. To retain important and/or large files between sessions, use the following lines of code to mount your personal Google drive to this Colab instance:"
      ]
    },
    {
      "cell_type": "code",
      "metadata": {
        "id": "1lxLKq4xW6iq",
        "colab_type": "code",
        "colab": {}
      },
      "source": [
        "try:\n",
        "    # --- Mount gdrive to /content/drive/My Drive/\n",
        "    from google.colab import drive\n",
        "    drive.mount('/content/drive')\n",
        "    \n",
        "except: pass"
      ],
      "execution_count": 0,
      "outputs": []
    },
    {
      "cell_type": "markdown",
      "metadata": {
        "id": "kiAxhln7W6i0",
        "colab_type": "text"
      },
      "source": [
        "Throughout this assignment we will use the following global `MOUNT_ROOT` variable to reference a location to store long-term data. If you are using a local Jupyter server and/or wish to store your data elsewhere, please update this variable now."
      ]
    },
    {
      "cell_type": "code",
      "metadata": {
        "id": "0KgICcgLW6i2",
        "colab_type": "code",
        "colab": {}
      },
      "source": [
        "# --- Set data directory\n",
        "MOUNT_ROOT = '/content/drive/My Drive'"
      ],
      "execution_count": 0,
      "outputs": []
    },
    {
      "cell_type": "markdown",
      "metadata": {
        "id": "yKbjqULGW6i8",
        "colab_type": "text"
      },
      "source": [
        "### Select Tensorflow library version\n",
        "\n",
        "This assignment will use the (new) Tensorflow 2.0 library. Use the following line of code to select this updated version:"
      ]
    },
    {
      "cell_type": "code",
      "metadata": {
        "id": "cVmwvSGlW6i9",
        "colab_type": "code",
        "colab": {}
      },
      "source": [
        "# --- Select Tensorflow 2.0 (only in Google Colab)\n",
        "%tensorflow_version 2.x"
      ],
      "execution_count": 0,
      "outputs": []
    },
    {
      "cell_type": "markdown",
      "metadata": {
        "id": "4IJQK5XcW6jC",
        "colab_type": "text"
      },
      "source": [
        "# Environment\n",
        "\n",
        "Use the following lines to import any needed libraries:"
      ]
    },
    {
      "cell_type": "code",
      "metadata": {
        "id": "KHKYGpUnW6jD",
        "colab_type": "code",
        "colab": {}
      },
      "source": [
        "import os, numpy as np\n",
        "from tensorflow import losses, optimizers\n",
        "from tensorflow.keras import Input, Model, models, layers"
      ],
      "execution_count": 0,
      "outputs": []
    },
    {
      "cell_type": "markdown",
      "metadata": {
        "id": "e5mfkwbfW6jN",
        "colab_type": "text"
      },
      "source": [
        "# Data\n",
        "\n",
        "As in the tutorial, data for this assignment will be simulated via a Python generator:"
      ]
    },
    {
      "cell_type": "code",
      "metadata": {
        "id": "4QONUaJBW6jO",
        "colab_type": "code",
        "colab": {}
      },
      "source": [
        "def Generator(batch_size=128):\n",
        "    \"\"\"\n",
        "    Method to define a Python generator for training data\n",
        "    \n",
        "    \"\"\"\n",
        "    # --- Define lambda function for random values [-0.5, +0.5]\n",
        "    lo = -0.5\n",
        "    hi = +0.5\n",
        "    rand = lambda shape : np.random.rand(*shape) * (hi - lo) + lo\n",
        "    \n",
        "    # --- Define lambda function for linear transform\n",
        "    m = np.array([0.2, 0.8, -0.3, 0.4, -0.5]).reshape(5, 1)\n",
        "    b = 0.7\n",
        "    f = lambda x : np.matmul(x, m) + b + rand((x.shape[0], 1))\n",
        "    \n",
        "    while True:\n",
        "        \n",
        "        x = np.random.rand(batch_size, 5)\n",
        "        y = f(x)\n",
        "        \n",
        "        yield x, y"
      ],
      "execution_count": 0,
      "outputs": []
    },
    {
      "cell_type": "markdown",
      "metadata": {
        "id": "cWalsoB3W6jS",
        "colab_type": "text"
      },
      "source": [
        "**Imporant**: do *not* change the code for the above Generator to ensure that your results are consistent."
      ]
    },
    {
      "cell_type": "markdown",
      "metadata": {
        "id": "YHWahKCPW6jS",
        "colab_type": "text"
      },
      "source": [
        "# Training\n",
        "\n",
        "In this assignment we will train a multiple (multivariable) linear regression model, extending the single variable linear regression model in the tutorial The provided input to the model will comprise of a five-element vector, and the output will be a single-element numeric prediction.  "
      ]
    },
    {
      "cell_type": "markdown",
      "metadata": {
        "id": "FZOOvZbzW6jT",
        "colab_type": "text"
      },
      "source": [
        "### Define the model"
      ]
    },
    {
      "cell_type": "code",
      "metadata": {
        "id": "xhxmpqsDW6jU",
        "colab_type": "code",
        "colab": {}
      },
      "source": [
        "# --- Define model\n",
        "x = Input(shape=(5,))\n",
        "y = layers.Dense(1)(x)\n",
        "model = Model(inputs=x, outputs=y)"
      ],
      "execution_count": 0,
      "outputs": []
    },
    {
      "cell_type": "markdown",
      "metadata": {
        "id": "67myg88-W6jY",
        "colab_type": "text"
      },
      "source": [
        "### Compile the model"
      ]
    },
    {
      "cell_type": "code",
      "metadata": {
        "id": "wG5po9NJW6jZ",
        "colab_type": "code",
        "colab": {}
      },
      "source": [
        "# --- Define loss and optimizer\n",
        "loss = losses.MeanSquaredError()\n",
        "optimizer = optimizers.Adam(learning_rate=1e-3)\n",
        "\n",
        "# --- Compile model\n",
        "model.compile(optimizer=optimizer, loss=loss)"
      ],
      "execution_count": 0,
      "outputs": []
    },
    {
      "cell_type": "markdown",
      "metadata": {
        "id": "1wb_O2K5W6jb",
        "colab_type": "text"
      },
      "source": [
        "### Train the model"
      ]
    },
    {
      "cell_type": "code",
      "metadata": {
        "id": "rRxbgv1IW6jc",
        "colab_type": "code",
        "colab": {
          "base_uri": "https://localhost:8080/",
          "height": 170
        },
        "outputId": "6fe70989-186a-47b1-cace-efdff12d9f41"
      },
      "source": [
        "model.fit_generator(\n",
        "    generator=Generator(), \n",
        "    steps_per_epoch=400, \n",
        "    epochs=4)"
      ],
      "execution_count": 11,
      "outputs": [
        {
          "output_type": "stream",
          "text": [
            "Epoch 1/4\n",
            "400/400 [==============================] - 1s 2ms/step - loss: 0.0862\n",
            "Epoch 2/4\n",
            "400/400 [==============================] - 1s 2ms/step - loss: 0.0850\n",
            "Epoch 3/4\n",
            "400/400 [==============================] - 1s 2ms/step - loss: 0.0838\n",
            "Epoch 4/4\n",
            "400/400 [==============================] - 1s 2ms/step - loss: 0.0840\n"
          ],
          "name": "stdout"
        },
        {
          "output_type": "execute_result",
          "data": {
            "text/plain": [
              "<tensorflow.python.keras.callbacks.History at 0x7f91de544860>"
            ]
          },
          "metadata": {
            "tags": []
          },
          "execution_count": 11
        }
      ]
    },
    {
      "cell_type": "markdown",
      "metadata": {
        "id": "PTskhLvuW6jf",
        "colab_type": "text"
      },
      "source": [
        "# Evaluation\n",
        "\n",
        "Based on the tutorial discussion, use the following cells to check your algorithm performance. Consider loading a saved model and running prediction using `model.predict(...)` on a batch (or several batches) of data. "
      ]
    },
    {
      "cell_type": "code",
      "metadata": {
        "id": "axSofM3YW6jf",
        "colab_type": "code",
        "colab": {
          "base_uri": "https://localhost:8080/",
          "height": 102
        },
        "outputId": "79aefa86-fda3-48fc-ac4b-f244ace260d9"
      },
      "source": [
        "model.layers[1].get_weights()"
      ],
      "execution_count": 12,
      "outputs": [
        {
          "output_type": "execute_result",
          "data": {
            "text/plain": [
              "[array([[ 0.22653298],\n",
              "        [ 0.81535864],\n",
              "        [-0.27609816],\n",
              "        [ 0.41746113],\n",
              "        [-0.48153475]], dtype=float32), array([0.6502904], dtype=float32)]"
            ]
          },
          "metadata": {
            "tags": []
          },
          "execution_count": 12
        }
      ]
    },
    {
      "cell_type": "markdown",
      "metadata": {
        "id": "JqyuiRWDW6ji",
        "colab_type": "text"
      },
      "source": [
        "# Submission\n",
        "\n",
        "Use the following line to save your model for submission (in Google Colab this should save your model file into your personal Google Drive):"
      ]
    },
    {
      "cell_type": "code",
      "metadata": {
        "id": "xhoKR68hW6ji",
        "colab_type": "code",
        "colab": {}
      },
      "source": [
        "# --- Serialize a model\n",
        "fname = '{}/models/linear/model.hdf5'.format(MOUNT_ROOT)\n",
        "os.makedirs(os.path.dirname(fname), exist_ok=True)\n",
        "model.save(fname)"
      ],
      "execution_count": 0,
      "outputs": []
    },
    {
      "cell_type": "markdown",
      "metadata": {
        "id": "YHIDDsObW6jl",
        "colab_type": "text"
      },
      "source": [
        "### Canvas\n",
        "\n",
        "Once you have completed this assignment, download the necessary files from Google Colab and your Google Drive. You will then need to submit the following items:\n",
        "\n",
        "* final (completed) notebook: `[UCInetID]_assignment.ipynb`\n",
        "* final (trained) model: `[UCInetID]_model.hdf5`\n",
        "\n",
        "**Important**: please submit all your files prefixed with your UCInetID as listed above. Your UCInetID is the part of your UCI email address that comes before `@uci.edu`. For example, Peter Anteater has an email address of panteater@uci.edu, so his notebooked file would be submitted under the name `panteater_notebook.ipynb` and his model file would be submitted under the name `panteater_model.hdf5`."
      ]
    }
  ]
}